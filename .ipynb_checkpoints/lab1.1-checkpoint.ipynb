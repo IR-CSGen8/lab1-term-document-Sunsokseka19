{
 "cells": [
  {
   "cell_type": "code",
   "execution_count": 4,
   "id": "ea269e0f-3bcd-4f5a-9fee-8ae120f34887",
   "metadata": {},
   "outputs": [
    {
     "data": {
      "text/html": [
       "<div>\n",
       "<style scoped>\n",
       "    .dataframe tbody tr th:only-of-type {\n",
       "        vertical-align: middle;\n",
       "    }\n",
       "\n",
       "    .dataframe tbody tr th {\n",
       "        vertical-align: top;\n",
       "    }\n",
       "\n",
       "    .dataframe thead th {\n",
       "        text-align: right;\n",
       "    }\n",
       "</style>\n",
       "<table border=\"1\" class=\"dataframe\">\n",
       "  <thead>\n",
       "    <tr style=\"text-align: right;\">\n",
       "      <th></th>\n",
       "      <th>0</th>\n",
       "      <th>1</th>\n",
       "    </tr>\n",
       "  </thead>\n",
       "  <tbody>\n",
       "    <tr>\n",
       "      <th>0</th>\n",
       "      <td>Document 1</td>\n",
       "      <td>This is the first document. It contains some w...</td>\n",
       "    </tr>\n",
       "    <tr>\n",
       "      <th>1</th>\n",
       "      <td>Document 2</td>\n",
       "      <td>The second document is a bit longer and has di...</td>\n",
       "    </tr>\n",
       "    <tr>\n",
       "      <th>2</th>\n",
       "      <td>Document 3</td>\n",
       "      <td>The third document is short. Short documents c...</td>\n",
       "    </tr>\n",
       "  </tbody>\n",
       "</table>\n",
       "</div>"
      ],
      "text/plain": [
       "            0                                                  1\n",
       "0  Document 1  This is the first document. It contains some w...\n",
       "1  Document 2  The second document is a bit longer and has di...\n",
       "2  Document 3  The third document is short. Short documents c..."
      ]
     },
     "execution_count": 4,
     "metadata": {},
     "output_type": "execute_result"
    }
   ],
   "source": [
    "import pandas as pd\n",
    "df = pd.read_csv(r\"C:\\Users\\ASUS\\Documents\\tdoc.csv\", header = None)\n",
    "df"
   ]
  },
  {
   "cell_type": "code",
   "execution_count": 5,
   "id": "ac2909c5-08b6-488c-993c-b06b81651df9",
   "metadata": {},
   "outputs": [
    {
     "data": {
      "text/html": [
       "<div>\n",
       "<style scoped>\n",
       "    .dataframe tbody tr th:only-of-type {\n",
       "        vertical-align: middle;\n",
       "    }\n",
       "\n",
       "    .dataframe tbody tr th {\n",
       "        vertical-align: top;\n",
       "    }\n",
       "\n",
       "    .dataframe thead th {\n",
       "        text-align: right;\n",
       "    }\n",
       "</style>\n",
       "<table border=\"1\" class=\"dataframe\">\n",
       "  <thead>\n",
       "    <tr style=\"text-align: right;\">\n",
       "      <th></th>\n",
       "      <th>1</th>\n",
       "    </tr>\n",
       "  </thead>\n",
       "  <tbody>\n",
       "    <tr>\n",
       "      <th>0</th>\n",
       "      <td>This is the first document. It contains some w...</td>\n",
       "    </tr>\n",
       "    <tr>\n",
       "      <th>1</th>\n",
       "      <td>The second document is a bit longer and has di...</td>\n",
       "    </tr>\n",
       "    <tr>\n",
       "      <th>2</th>\n",
       "      <td>The third document is short. Short documents c...</td>\n",
       "    </tr>\n",
       "  </tbody>\n",
       "</table>\n",
       "</div>"
      ],
      "text/plain": [
       "                                                   1\n",
       "0  This is the first document. It contains some w...\n",
       "1  The second document is a bit longer and has di...\n",
       "2  The third document is short. Short documents c..."
      ]
     },
     "execution_count": 5,
     "metadata": {},
     "output_type": "execute_result"
    }
   ],
   "source": [
    "doc = df[[1]]\n",
    "doc"
   ]
  },
  {
   "cell_type": "code",
   "execution_count": 6,
   "id": "9eba08ed-2cba-4a91-bd11-31e15d07d41c",
   "metadata": {},
   "outputs": [
    {
     "data": {
      "text/plain": [
       "['This is the first document. It contains some words.',\n",
       " 'The second document is a bit longer and has different words.',\n",
       " 'The third document is short. Short documents can be concise.']"
      ]
     },
     "execution_count": 6,
     "metadata": {},
     "output_type": "execute_result"
    }
   ],
   "source": [
    "documents = df[1].tolist()\n",
    "documents"
   ]
  },
  {
   "cell_type": "code",
   "execution_count": 7,
   "id": "29d0a5c2-4f2a-4985-80f8-2154f9713280",
   "metadata": {},
   "outputs": [
    {
     "data": {
      "text/plain": [
       "0    This is the first document. It contains some w...\n",
       "1    The second document is a bit longer and has di...\n",
       "2    The third document is short. Short documents c...\n",
       "Name: 1, dtype: object"
      ]
     },
     "execution_count": 7,
     "metadata": {},
     "output_type": "execute_result"
    }
   ],
   "source": [
    "df.iloc[:,1]"
   ]
  },
  {
   "cell_type": "code",
   "execution_count": 8,
   "id": "61dcacc0-2021-4651-8ab3-094a06383dee",
   "metadata": {},
   "outputs": [
    {
     "data": {
      "text/plain": [
       "{'It',\n",
       " 'Short',\n",
       " 'The',\n",
       " 'This',\n",
       " 'a',\n",
       " 'and',\n",
       " 'be',\n",
       " 'bit',\n",
       " 'can',\n",
       " 'concise.',\n",
       " 'contains',\n",
       " 'different',\n",
       " 'document',\n",
       " 'document.',\n",
       " 'documents',\n",
       " 'first',\n",
       " 'has',\n",
       " 'is',\n",
       " 'longer',\n",
       " 'second',\n",
       " 'short.',\n",
       " 'some',\n",
       " 'the',\n",
       " 'third',\n",
       " 'words.'}"
      ]
     },
     "execution_count": 8,
     "metadata": {},
     "output_type": "execute_result"
    }
   ],
   "source": [
    "unique_terms = {term for document in documents for term in document.split()}\n",
    "unique_terms"
   ]
  },
  {
   "cell_type": "code",
   "execution_count": 9,
   "id": "89c78ae2-be60-4137-a0eb-05212c99cccc",
   "metadata": {},
   "outputs": [
    {
     "data": {
      "text/plain": [
       "{'contains': [1, 0, 0],\n",
       " 'This': [1, 0, 0],\n",
       " 'document.': [1, 0, 0],\n",
       " 'first': [1, 0, 0],\n",
       " 'Short': [0, 0, 1],\n",
       " 'bit': [0, 1, 0],\n",
       " 'and': [0, 1, 0],\n",
       " 'the': [1, 0, 0],\n",
       " 'some': [1, 0, 0],\n",
       " 'documents': [0, 0, 1],\n",
       " 'a': [1, 1, 1],\n",
       " 'concise.': [0, 0, 1],\n",
       " 'words.': [1, 1, 0],\n",
       " 'It': [1, 0, 0],\n",
       " 'The': [0, 1, 1],\n",
       " 'short.': [0, 0, 1],\n",
       " 'longer': [0, 1, 0],\n",
       " 'can': [0, 0, 1],\n",
       " 'different': [0, 1, 0],\n",
       " 'is': [1, 1, 1],\n",
       " 'second': [0, 1, 0],\n",
       " 'has': [0, 1, 0],\n",
       " 'third': [0, 0, 1],\n",
       " 'be': [0, 0, 1],\n",
       " 'document': [1, 1, 1]}"
      ]
     },
     "execution_count": 9,
     "metadata": {},
     "output_type": "execute_result"
    }
   ],
   "source": [
    "# create a matrix for the document by using the unique term\n",
    "document_term_matrix = {}\n",
    "\n",
    "for term in unique_terms:\n",
    "    document_term_matrix[term] = []\n",
    "    \n",
    "    for document in documents:\n",
    "        if term in document:\n",
    "            document_term_matrix[term].append(1)\n",
    "        else: document_term_matrix[term].append(0)\n",
    "\n",
    "document_term_matrix"
   ]
  },
  {
   "cell_type": "code",
   "execution_count": 10,
   "id": "e0d1c61c-a3b0-4aec-bc7c-0fefdb5441a6",
   "metadata": {},
   "outputs": [
    {
     "name": "stdout",
     "output_type": "stream",
     "text": [
      "[1 0 0]\n",
      "[0 0 1]\n",
      "-------\n",
      "[0 0 0]\n"
     ]
    },
    {
     "data": {
      "text/plain": [
       "[]"
      ]
     },
     "execution_count": 10,
     "metadata": {},
     "output_type": "execute_result"
    }
   ],
   "source": [
    "# import the numpy library if it doesn't work you need to install numpy\n",
    "import numpy as np\n",
    "doc_array = np.array(documents, dtype='object')\n",
    "v1 = np.array(document_term_matrix['This'])    \n",
    "v2 = np.array(document_term_matrix['short.'])\n",
    "\n",
    "print(v1)\n",
    "print(v2)\n",
    "print('-------')\n",
    "v3 = v1 & v2\n",
    "print(v3)\n",
    "[document for document in v3 * doc_array if document]"
   ]
  },
  {
   "cell_type": "code",
   "execution_count": 13,
   "id": "67b9969e-557e-4b51-9456-a6938e2c3fe1",
   "metadata": {},
   "outputs": [],
   "source": [
    "import csv\n",
    "csv_file = \"unique_term.csv\""
   ]
  },
  {
   "cell_type": "code",
   "execution_count": 14,
   "id": "36d67754-3b29-4724-88a6-bf419e20474e",
   "metadata": {},
   "outputs": [],
   "source": [
    "with open(csv_file, mode='w', newline='') as file:\n",
    "    writer=csv.writer(file)\n",
    "    for term in unique_terms:\n",
    "        writer.writerow([term])"
   ]
  },
  {
   "cell_type": "code",
   "execution_count": 15,
   "id": "fa9d696b-045b-431b-bd80-6a38c0d61932",
   "metadata": {},
   "outputs": [
    {
     "name": "stdout",
     "output_type": "stream",
     "text": [
      "CSV file 'unique_term.csv' has been created with set data.\n"
     ]
    }
   ],
   "source": [
    "print(f\"CSV file '{csv_file}' has been created with set data.\")"
   ]
  },
  {
   "cell_type": "code",
   "execution_count": null,
   "id": "1ea31e06-f306-4ee0-b026-f61007fa80ea",
   "metadata": {},
   "outputs": [],
   "source": []
  }
 ],
 "metadata": {
  "kernelspec": {
   "display_name": "Python 3 (ipykernel)",
   "language": "python",
   "name": "python3"
  },
  "language_info": {
   "codemirror_mode": {
    "name": "ipython",
    "version": 3
   },
   "file_extension": ".py",
   "mimetype": "text/x-python",
   "name": "python",
   "nbconvert_exporter": "python",
   "pygments_lexer": "ipython3",
   "version": "3.11.5"
  }
 },
 "nbformat": 4,
 "nbformat_minor": 5
}
