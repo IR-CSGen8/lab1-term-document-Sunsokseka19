{
 "cells": [
  {
   "cell_type": "code",
   "execution_count": 1,
   "id": "5d629fa3-b73b-4811-91dc-336324486179",
   "metadata": {},
   "outputs": [
    {
     "name": "stdout",
     "output_type": "stream",
     "text": [
      "hello world\n"
     ]
    }
   ],
   "source": [
    "print(\"hello world\")"
   ]
  },
  {
   "cell_type": "code",
   "execution_count": 2,
   "id": "dbe44125-37e6-4fd1-b418-e9cf47d83fa6",
   "metadata": {},
   "outputs": [],
   "source": [
    "documents = {\n",
    "    \"Article: Pandas Basics\": \"This article covers the basics of using Pandas in Python.\",\n",
    "    \"Tutorial: Data Visualization\": \"Learn about data visualization techniques with Python libraries.\",\n",
    "    \"Case Study: Sales Analysis\": \"Analyze sales data using Python for a real-world case study.\"\n",
    "}"
   ]
  },
  {
   "cell_type": "code",
   "execution_count": 3,
   "id": "80f67431-605a-4a1a-89af-1896ab024464",
   "metadata": {},
   "outputs": [
    {
     "name": "stdout",
     "output_type": "stream",
     "text": [
      "['Article: Pandas Basics', 'Tutorial: Data Visualization', 'Case Study: Sales Analysis']\n"
     ]
    }
   ],
   "source": [
    "# get the keys of the documents and store it in the list\n",
    "key_documents = list(documents.keys())\n",
    "\n",
    "# display the list of the key documents\n",
    "print(key_documents)"
   ]
  },
  {
   "cell_type": "code",
   "execution_count": 4,
   "id": "0ddc45e8-9dce-4def-a5d0-a2828d1a3681",
   "metadata": {},
   "outputs": [
    {
     "name": "stdout",
     "output_type": "stream",
     "text": [
      "['This article covers the basics of using Pandas in Python.', 'Learn about data visualization techniques with Python libraries.', 'Analyze sales data using Python for a real-world case study.']\n"
     ]
    }
   ],
   "source": [
    "# Extract the content values and put them in a list\n",
    "document_content_list = list(documents.values())\n",
    "\n",
    "# Display the list of document content\n",
    "print(document_content_list)"
   ]
  },
  {
   "cell_type": "code",
   "execution_count": 5,
   "id": "2037b1f5-a37b-4e77-a4ed-cc882bca0a37",
   "metadata": {},
   "outputs": [
    {
     "data": {
      "text/plain": [
       "{'Analysis',\n",
       " 'Article:',\n",
       " 'Basics',\n",
       " 'Case',\n",
       " 'Data',\n",
       " 'Pandas',\n",
       " 'Sales',\n",
       " 'Study:',\n",
       " 'Tutorial:',\n",
       " 'Visualization'}"
      ]
     },
     "execution_count": 5,
     "metadata": {},
     "output_type": "execute_result"
    }
   ],
   "source": [
    "# Gather the set of all unique terms from the list content of document and diplay the result\n",
    "unique_terms = {term for document in documents for term in document.split()}\n",
    "unique_terms"
   ]
  },
  {
   "cell_type": "code",
   "execution_count": 6,
   "id": "084ecae0-9a3e-4cc1-9f8e-4bedc3f4b932",
   "metadata": {},
   "outputs": [
    {
     "data": {
      "text/plain": [
       "{'Visualization': [0, 1, 0],\n",
       " 'Analysis': [0, 0, 1],\n",
       " 'Pandas': [1, 0, 0],\n",
       " 'Article:': [1, 0, 0],\n",
       " 'Tutorial:': [0, 1, 0],\n",
       " 'Data': [0, 1, 0],\n",
       " 'Study:': [0, 0, 1],\n",
       " 'Sales': [0, 0, 1],\n",
       " 'Basics': [1, 0, 0],\n",
       " 'Case': [0, 0, 1]}"
      ]
     },
     "execution_count": 6,
     "metadata": {},
     "output_type": "execute_result"
    }
   ],
   "source": [
    "# create a matrix for the document by using the unique term\n",
    "document_term_matrix = {}\n",
    "\n",
    "for term in unique_terms:\n",
    "    document_term_matrix[term] = []\n",
    "    \n",
    "    for document in documents:\n",
    "        if term in document:\n",
    "            document_term_matrix[term].append(1)\n",
    "        else: document_term_matrix[term].append(0)\n",
    "\n",
    "document_term_matrix"
   ]
  },
  {
   "cell_type": "code",
   "execution_count": 7,
   "id": "b0f368e9-1173-49c2-9c4d-d91459796da2",
   "metadata": {},
   "outputs": [
    {
     "name": "stdout",
     "output_type": "stream",
     "text": [
      "[0 0 1]\n",
      "[0 0 1]\n",
      "-------\n",
      "[0 0 1]\n"
     ]
    },
    {
     "data": {
      "text/plain": [
       "['Analyze sales data using Python for a real-world case study.']"
      ]
     },
     "execution_count": 7,
     "metadata": {},
     "output_type": "execute_result"
    }
   ],
   "source": [
    "# import the numpy library if it doesn't work you need to install numpy\n",
    "import numpy as np\n",
    "\n",
    "documents_array = np.array(document_content_list, dtype='object')\n",
    "\n",
    "v1 = np.array(document_term_matrix['Case'])    \n",
    "v2 = np.array(document_term_matrix['Study:'])\n",
    "\n",
    "print(v1)\n",
    "print(v2)\n",
    "print('-------')\n",
    "v3 = v1 & v2\n",
    "print(v3)\n",
    "# display the content document from the result\n",
    "[document for document in v3 * documents_array if document]"
   ]
  },
  {
   "cell_type": "code",
   "execution_count": 8,
   "id": "f737a56f-163c-4b2b-ac9b-e81d586f0093",
   "metadata": {},
   "outputs": [
    {
     "name": "stdout",
     "output_type": "stream",
     "text": [
      "[0 0 1]\n"
     ]
    },
    {
     "data": {
      "text/plain": [
       "['Analyze sales data using Python for a real-world case study.']"
      ]
     },
     "execution_count": 8,
     "metadata": {},
     "output_type": "execute_result"
    }
   ],
   "source": [
    "# find the document for those have at least one word\n",
    "v3 = v1 | v2\n",
    "print(v3)\n",
    "[document for document in v3 * documents_array if document]"
   ]
  },
  {
   "cell_type": "code",
   "execution_count": 9,
   "id": "3839e314-9be9-47bc-9857-eee214fc3802",
   "metadata": {},
   "outputs": [
    {
     "name": "stdout",
     "output_type": "stream",
     "text": [
      "    cars  passings\n",
      "0    BMW         3\n",
      "1  Volvo         7\n",
      "2   Ford         2\n"
     ]
    }
   ],
   "source": [
    "import pandas\n",
    "\n",
    "mydataset = {\n",
    "  'cars': [\"BMW\", \"Volvo\", \"Ford\"],\n",
    "  'passings': [3, 7, 2]\n",
    "}\n",
    "\n",
    "myvar = pandas.DataFrame(mydataset)\n",
    "\n",
    "print(myvar)"
   ]
  },
  {
   "cell_type": "code",
   "execution_count": null,
   "id": "05b13c97-eefe-4be7-9f5f-e4f969fe1181",
   "metadata": {},
   "outputs": [],
   "source": []
  }
 ],
 "metadata": {
  "kernelspec": {
   "display_name": "Python 3 (ipykernel)",
   "language": "python",
   "name": "python3"
  },
  "language_info": {
   "codemirror_mode": {
    "name": "ipython",
    "version": 3
   },
   "file_extension": ".py",
   "mimetype": "text/x-python",
   "name": "python",
   "nbconvert_exporter": "python",
   "pygments_lexer": "ipython3",
   "version": "3.11.5"
  }
 },
 "nbformat": 4,
 "nbformat_minor": 5
}
